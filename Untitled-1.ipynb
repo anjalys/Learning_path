{
 "cells": [
  {
   "cell_type": "code",
   "execution_count": 79,
   "metadata": {},
   "outputs": [],
   "source": [
    "import re"
   ]
  },
  {
   "cell_type": "code",
   "execution_count": 80,
   "metadata": {},
   "outputs": [
    {
     "output_type": "stream",
     "name": "stdout",
     "text": "<re.Match object; span=(0, 9), match='Analytics'>\n"
    }
   ],
   "source": [
    "#Occurence of a pattern at the beginning\n",
    "result=re.match(\"Analytics\", r\"Analytics Vidya is the largest data science community in India\")\n",
    "print(result)"
   ]
  },
  {
   "cell_type": "code",
   "execution_count": 81,
   "metadata": {},
   "outputs": [
    {
     "output_type": "stream",
     "name": "stdout",
     "text": "None\n"
    }
   ],
   "source": [
    "result_2=re.match(\"largest\", r\"Analytics Vidya is the largest data science community in India\")\n",
    "print(result_2)"
   ]
  },
  {
   "cell_type": "code",
   "execution_count": 82,
   "metadata": {},
   "outputs": [
    {
     "output_type": "execute_result",
     "data": {
      "text/plain": "'Analytics'"
     },
     "metadata": {},
     "execution_count": 82
    }
   ],
   "source": [
    "result.group()\n",
    "#result_2.group()"
   ]
  },
  {
   "cell_type": "code",
   "execution_count": 83,
   "metadata": {},
   "outputs": [
    {
     "output_type": "stream",
     "name": "stdout",
     "text": "<re.Match object; span=(23, 30), match='largest'>\n"
    }
   ],
   "source": [
    "#matches single occurenece of a pattern\n",
    "result_2=re.search(\"largest\", r\"Analytics Vidya is the largest data science community in India\")\n",
    "print(result_2)"
   ]
  },
  {
   "cell_type": "code",
   "execution_count": 84,
   "metadata": {},
   "outputs": [
    {
     "output_type": "stream",
     "name": "stdout",
     "text": "['largest', 'largest']\n"
    }
   ],
   "source": [
    "#matches all occureneces of a pattern\n",
    "result_2=re.findall(\"largest\", r\"Analytics Vidya is the largest data science community in largest India\")\n",
    "print(result_2)"
   ]
  },
  {
   "cell_type": "code",
   "execution_count": 85,
   "metadata": {},
   "outputs": [
    {
     "output_type": "stream",
     "name": "stdout",
     "text": "['est', 'est']\n"
    }
   ],
   "source": [
    "#Special sequences\n",
    "#\\b returns a match where the specified pattern is at the end of the pattern\n",
    "string = r\"Analytics Vidya is the largest data science community largest in India\"\n",
    "\n",
    "#check of there is any word ends with ics\n",
    "result_2=re.findall(r\"est\\b\", string)\n",
    "print(result_2)\n"
   ]
  },
  {
   "cell_type": "code",
   "execution_count": 86,
   "metadata": {},
   "outputs": [
    {
     "output_type": "stream",
     "name": "stdout",
     "text": "['2', '1', '9']\n\n\n['2', '19']\n"
    }
   ],
   "source": [
    "#\\d returns a match where string contains digits (numbers from 0-9)\n",
    "string = r\"2 million monthly visits in Jan'19\"\n",
    "\n",
    "#continue to extract digits\n",
    "result_2=re.findall(r\"\\d\", string)\n",
    "print(result_2)\n",
    "\n",
    "print(\"\\n\")\n",
    "\n",
    "#adding + after \\d will continue to extract digits until a space encounters\n",
    "result_2=re.findall(r\"\\d+\", string)\n",
    "print(result_2)\n"
   ]
  },
  {
   "cell_type": "markdown",
   "metadata": {},
   "source": [
    "<h1>Special Characters</h1>"
   ]
  },
  {
   "cell_type": "code",
   "execution_count": 87,
   "metadata": {},
   "outputs": [
    {
     "output_type": "stream",
     "name": "stdout",
     "text": "[' ', 'm', 'i', 'l', 'l', 'i', 'o', 'n', ' ', 'm', 'o', 'n', 't', 'h', 'l', 'y', ' ', 'v', 'i', 's', 'i', 't', 's', ' ', 'i', 'n', ' ', 'J', 'a', 'n', \"'\"]\n"
    }
   ],
   "source": [
    "#\\D check if the word character doesnot contain any digits numbers (0 tot 9)\n",
    "result_2=re.findall(r\"\\D\", string)\n",
    "print(result_2)"
   ]
  },
  {
   "cell_type": "code",
   "execution_count": 88,
   "metadata": {},
   "outputs": [
    {
     "output_type": "stream",
     "name": "stdout",
     "text": "[\" million monthly visits in Jan'\"]\n"
    }
   ],
   "source": [
    "##\\D check if the word doesnot contain any digits numbers (0 tot 9)\n",
    "result_2=re.findall(r\"\\D+\", string)\n",
    "print(result_2)"
   ]
  },
  {
   "cell_type": "code",
   "execution_count": 89,
   "metadata": {},
   "outputs": [
    {
     "output_type": "stream",
     "name": "stdout",
     "text": "['2', 'million', 'monthly', 'visits', 'in', 'Jan', '19']\n"
    }
   ],
   "source": [
    "##\\w check the extraction of alphanumeric characters from a-z digits 0-9 and underscore '_'\n",
    "result_2=re.findall(r\"\\w+\", string)\n",
    "print(result_2)"
   ]
  },
  {
   "cell_type": "code",
   "execution_count": 90,
   "metadata": {},
   "outputs": [
    {
     "output_type": "stream",
     "name": "stdout",
     "text": "[' ', ' ', ' ', ' ', ' ', \"'\"]\n"
    }
   ],
   "source": [
    "##\\w check the extraction of non-alphanumeric characters from a-z digits 0-9 and underscore '_'\n",
    "result_2=re.findall(r\"\\W\", string)\n",
    "print(result_2)"
   ]
  },
  {
   "cell_type": "code",
   "execution_count": 91,
   "metadata": {},
   "outputs": [
    {
     "output_type": "stream",
     "name": "stdout",
     "text": "[' ', ' ', ' ', ' ', ' ', \"'\"]\n"
    }
   ],
   "source": [
    "##\\w check the extraction of non-alphanumeric characters from a-z digits 0-9 and underscore '_'\n",
    "result_2=re.findall(r\"\\W+\", string)\n",
    "print(result_2)"
   ]
  },
  {
   "cell_type": "markdown",
   "metadata": {},
   "source": [
    "<h2>MetaData Characters</h2>\n",
    "Metacharacters are characters with special meaning.\n"
   ]
  },
  {
   "cell_type": "code",
   "execution_count": 92,
   "metadata": {},
   "outputs": [
    {
     "output_type": "stream",
     "name": "stdout",
     "text": "['roh', 'roh']\n['rohan', 'rohit']\n"
    }
   ],
   "source": [
    "string = \"rohan and rohit recently published a research paper!\"\n",
    "\n",
    "#Search for a string starting with \"ro\", followed by a certain characters\n",
    "x1 = re.findall(\"ro.\", string)\n",
    "x2 = re.findall(\"ro...\", string)\n",
    "\n",
    "print(x1)\n",
    "print(x2)"
   ]
  },
  {
   "cell_type": "code",
   "execution_count": 93,
   "metadata": {},
   "outputs": [
    {
     "output_type": "stream",
     "name": "stdout",
     "text": "['Data']\n"
    }
   ],
   "source": [
    "string = r\"Data Science!\"\n",
    "\n",
    "#Search for a string starting with \"ro\", followed by a certain characters\n",
    "result_3 = re.findall(\"^Data\", string)\n",
    "print(result_3)"
   ]
  },
  {
   "cell_type": "markdown",
   "metadata": {},
   "source": [
    "1. (^) matches string ends with certain characters"
   ]
  },
  {
   "cell_type": "code",
   "execution_count": 94,
   "metadata": {},
   "outputs": [
    {
     "output_type": "stream",
     "name": "stdout",
     "text": "[]\n"
    }
   ],
   "source": [
    "string = r\"Data Science!\"\n",
    "\n",
    "#Search for a string starting with \"ro\", followed by a certain characters\n",
    "result_3 = re.findall(\"^Science\", string)\n",
    "print(result_3)"
   ]
  },
  {
   "cell_type": "markdown",
   "metadata": {},
   "source": [
    "2. ($) matches string ends with certain characters"
   ]
  },
  {
   "cell_type": "code",
   "execution_count": 95,
   "metadata": {},
   "outputs": [
    {
     "output_type": "stream",
     "name": "stdout",
     "text": "['Science']\n"
    }
   ],
   "source": [
    "string = r\"Data Science\"\n",
    "\n",
    "#Search for a string ends with \"Science\", followed by a certain characters\n",
    "result_3 = re.findall(\"Science$\", string)\n",
    "print(result_3)"
   ]
  },
  {
   "cell_type": "markdown",
   "metadata": {},
   "source": [
    "3. ($) matches string ends with certain characters"
   ]
  },
  {
   "cell_type": "code",
   "execution_count": 96,
   "metadata": {},
   "outputs": [
    {
     "output_type": "stream",
     "name": "stdout",
     "text": "[]\n"
    }
   ],
   "source": [
    "string = r\"Data Science\"\n",
    "\n",
    "#Search for a string ends with \"Science\", followed by a certain characters\n",
    "result_3 = re.findall(\"Data$\", string)\n",
    "print(result_3)"
   ]
  },
  {
   "cell_type": "markdown",
   "metadata": {},
   "source": [
    "4. (*) matches zero or more occurences "
   ]
  },
  {
   "cell_type": "code",
   "execution_count": 97,
   "metadata": {},
   "outputs": [
    {
     "output_type": "stream",
     "name": "stdout",
     "text": "['easy', 'easssy', 'eay']\n"
    }
   ],
   "source": [
    "string = \"easy easssy eay ey\"\n",
    "\n",
    "#check if the string contains \"ea\" followed by s 0 or more times and ends with y\n",
    "\n",
    "pattern = re.findall(\"eas*y\", string)\n",
    "print(pattern)"
   ]
  },
  {
   "cell_type": "code",
   "execution_count": null,
   "metadata": {},
   "outputs": [],
   "source": []
  },
  {
   "cell_type": "markdown",
   "metadata": {},
   "source": [
    "5. (+) matches one or more occurences "
   ]
  },
  {
   "cell_type": "code",
   "execution_count": 98,
   "metadata": {},
   "outputs": [
    {
     "output_type": "stream",
     "name": "stdout",
     "text": "['easy', 'easssy']\n"
    }
   ],
   "source": [
    "string = \"easy easssy eay ey\"\n",
    "\n",
    "#check if the string contains \"ea\" followed by s one or more times and ends with y\n",
    "\n",
    "pattern = re.findall(\"eas+y\", string)\n",
    "print(pattern)"
   ]
  },
  {
   "cell_type": "markdown",
   "metadata": {},
   "source": [
    "6. (?) matches zero or one occurence of patterns to the left"
   ]
  },
  {
   "cell_type": "code",
   "execution_count": 99,
   "metadata": {},
   "outputs": [
    {
     "output_type": "stream",
     "name": "stdout",
     "text": "['easy', 'eay']\n"
    }
   ],
   "source": [
    "string = \"easy easssy eay ey\"\n",
    "\n",
    "#check if the string contains \"ea\" followed by s 0 or more times and ends with y\n",
    "\n",
    "pattern = re.findall(\"eas?y\", string)\n",
    "print(pattern)"
   ]
  },
  {
   "cell_type": "markdown",
   "metadata": {},
   "source": [
    "7. (|) matches either data or India in the string"
   ]
  },
  {
   "cell_type": "code",
   "execution_count": 100,
   "metadata": {},
   "outputs": [
    {
     "output_type": "stream",
     "name": "stdout",
     "text": "['data', 'India']\n"
    }
   ],
   "source": [
    "string = r\"Analytics Vidya is the largest data science community largest in India\"\n",
    "\n",
    "#check if the string contains \"ea\" followed by s 0 or more times and ends with y\n",
    "\n",
    "pattern = re.findall(\"data|India\", string)\n",
    "print(pattern)"
   ]
  },
  {
   "cell_type": "code",
   "execution_count": 101,
   "metadata": {},
   "outputs": [
    {
     "output_type": "stream",
     "name": "stdout",
     "text": "['y', 'd', 'y', 'h', 'd', 'y', 'd']\n"
    }
   ],
   "source": [
    "string = r\"Analytics Vidya is the largest data science community largest in India\"\n",
    "\n",
    "#check if the string contains \"ea\" followed by s 0 or more times and ends with y\n",
    "\n",
    "pattern = re.findall(\"[ydh]\", string)\n",
    "print(pattern)"
   ]
  },
  {
   "cell_type": "code",
   "execution_count": 102,
   "metadata": {},
   "outputs": [
    {
     "output_type": "stream",
     "name": "stdout",
     "text": "['a', 'c', 'd', 'a', 'e', 'a', 'g', 'e', 'd', 'a', 'a', 'c', 'e', 'c', 'e', 'c', 'a', 'g', 'e', 'd', 'a']\n"
    }
   ],
   "source": [
    "string = r\"Analytics Vidya is the largest data science community largest in India\"\n",
    "\n",
    "#check if the string contains \"ea\" followed by s 0 or more times and ends with y\n",
    "\n",
    "pattern = re.findall(\"[a-g]\", string)\n",
    "print(pattern)"
   ]
  },
  {
   "cell_type": "code",
   "execution_count": 103,
   "metadata": {},
   "outputs": [
    {
     "output_type": "stream",
     "name": "stdout",
     "text": "['230', '687']\n"
    }
   ],
   "source": [
    "string = r\"Mars average distance from the Sun is roughly 230 million km and its orbital period is 687 Earth days.\"\n",
    "\n",
    "#Extract numbers starting from 0 to 9 from the above string\n",
    "\n",
    "x=re.findall(r\"[0-9]\\d+\", string)\n",
    "print(x)"
   ]
  },
  {
   "cell_type": "code",
   "execution_count": 104,
   "metadata": {},
   "outputs": [
    {
     "output_type": "stream",
     "name": "stdout",
     "text": "['A', 'n', 'a', 'l', 't', 'i', 'c', 's', ' ', 'V', 'i', 'a', ' ', 'i', 's', ' ', 't', 'e', ' ', 'l', 'a', 'r', 'g', 'e', 's', 't', ' ', 'a', 't', 'a', ' ', 's', 'c', 'i', 'e', 'n', 'c', 'e', ' ', 'c', 'o', 'm', 'm', 'u', 'n', 'i', 't', ' ', 'l', 'a', 'r', 'g', 'e', 's', 't', ' ', 'i', 'n', ' ', 'I', 'n', 'i', 'a']\n['Anal', 'tics Vi', 'a is t', 'e largest ', 'ata science communit', ' largest in In', 'ia']\n"
    }
   ],
   "source": [
    "string = r\"Analytics Vidya is the largest data science community largest in India\"\n",
    "\n",
    "#check if the string contains other than \"[ydh]\" \n",
    "\n",
    "pattern1 = re.findall(\"[^ydh]\", string)\n",
    "print(pattern1)\n",
    "\n",
    "pattern2 = re.findall(\"[^ydh]+\", string)\n",
    "print(pattern2)"
   ]
  },
  {
   "cell_type": "code",
   "execution_count": 105,
   "metadata": {},
   "outputs": [
    {
     "output_type": "stream",
     "name": "stdout",
     "text": "['@Av', '#av']\n"
    }
   ],
   "source": [
    "string = \"@Av Analytics Vidya is the #av largest data science community in India.\"\n",
    "\n",
    "#check if the string has terms starting with character other than non-alpha numeric characters and space\n",
    "\n",
    "pattern = re.findall(\"[^a-zA-Z0-9 ]\\w+\", string)\n",
    "print(pattern)"
   ]
  },
  {
   "cell_type": "markdown",
   "metadata": {},
   "source": [
    "<h2>Lets try some complex queries using regex</h2>"
   ]
  },
  {
   "cell_type": "markdown",
   "metadata": {},
   "source": [
    "<h2>Extracting Email IDs</h2>"
   ]
  },
  {
   "cell_type": "code",
   "execution_count": 106,
   "metadata": {},
   "outputs": [
    {
     "output_type": "stream",
     "name": "stdout",
     "text": "['vrinda23@gmail.com', 'priya_david@yahoo.com', 'priya.san@yahoo.com', 'anjaly-45@gmail.com']\n"
    }
   ],
   "source": [
    "mail_string = \" send a mail to vrinda23@gmail.com, priya_david@yahoo.com, priya.san@yahoo.com, anjaly-45@gmail.com about the meeting @2PM.\"\n",
    "\n",
    "# \\w matches any alphanumeric characters\n",
    "# + for repeats character any number of times\n",
    "#x=re.findall('\\w+@\\w+\\.com', mail_string)\n",
    "\n",
    "x=re.findall('[a-zA-Z0-9._-]+@\\w+\\.com', mail_string)\n",
    "print(x)"
   ]
  },
  {
   "cell_type": "markdown",
   "metadata": {},
   "source": [
    "<h2>Extracting Dates from the string</h2>"
   ]
  },
  {
   "cell_type": "code",
   "execution_count": 117,
   "metadata": {},
   "outputs": [
    {
     "output_type": "stream",
     "name": "stdout",
     "text": "['2012-07-02', '2012-08-12']\n"
    }
   ],
   "source": [
    "# Extract dates with varying lengths\n",
    "text = 'London Olympic 2012 was held from 2012-07-02 to 2012-08-12'\n",
    "\n",
    "# '\\d{4}' repeats '\\d' 4 times.abs\n",
    "match = re.findall('\\d{4}.\\d{2}.\\d{2}', text)\n",
    "print(match)"
   ]
  },
  {
   "cell_type": "code",
   "execution_count": 118,
   "metadata": {},
   "outputs": [
    {
     "output_type": "stream",
     "name": "stdout",
     "text": "['27 July 20', '12 August 20']\n"
    }
   ],
   "source": [
    "# Extract dates with different patterns\n",
    "text = 'London Olympic 2012 was held from 27 July 2012 to 12 August 2012'\n",
    "\n",
    "# '\\d{4}' repeats '\\d' 4 times.abs\n",
    "match = re.findall('\\d{2}.\\w{3,10}.\\d{2}', text)\n",
    "print(match)"
   ]
  },
  {
   "cell_type": "code",
   "execution_count": 123,
   "metadata": {},
   "outputs": [
    {
     "output_type": "stream",
     "name": "stdout",
     "text": "['27 July 20', '12 August 20']\n"
    }
   ],
   "source": [
    "# Extract dates with different patterns\n",
    "text = 'London Olympic 2012 was held from 27 July 2012 to 12 August 2012'\n",
    "\n",
    "match = re.findall('\\d{2}.\\w{3,10}.\\d{2}', text)\n",
    "print(match)"
   ]
  }
 ],
 "metadata": {
  "language_info": {
   "codemirror_mode": {
    "name": "ipython",
    "version": 3
   },
   "file_extension": ".py",
   "mimetype": "text/x-python",
   "name": "python",
   "nbconvert_exporter": "python",
   "pygments_lexer": "ipython3",
   "version": "3.7.3-final"
  },
  "orig_nbformat": 2,
  "kernelspec": {
   "name": "python37364bit1272dae8c06c495cb76b9442b184931a",
   "display_name": "Python 3.7.3 64-bit"
  }
 },
 "nbformat": 4,
 "nbformat_minor": 2
}